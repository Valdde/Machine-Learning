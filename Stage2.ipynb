{
 "cells": [
  {
   "cell_type": "code",
   "execution_count": 19,
   "id": "4c9beddf",
   "metadata": {},
   "outputs": [
    {
     "name": "stderr",
     "output_type": "stream",
     "text": [
      "UsageError: unrecognized arguments: #3D plotting\n"
     ]
    }
   ],
   "source": [
    "import numpy as np #numerical computations\n",
    "import pandas as pd #data manipulation and analysis\n",
    "import matplotlib.pyplot as plt #plotting data\n",
    "from sklearn.linear_model import LinearRegression, HuberRegressor #tools for linear regression\n",
    "from sklearn.metrics import mean_squared_error, accuracy_score\n",
    "from sklearn.model_selection import train_test_split\n",
    "from mpl_toolkits import mplot3d #plotting\n",
    "from sklearn.preprocessing import StandardScaler #scaling\n",
    "from sklearn.preprocessing import PolynomialFeatures\n",
    "%matplotlib inline #3D plotting\n",
    "\n",
    "\n",
    "\n"
   ]
  },
  {
   "cell_type": "code",
   "execution_count": 20,
   "id": "cabb0c1a",
   "metadata": {},
   "outputs": [],
   "source": [
    "#getting and preprocessing the data\n",
    "\n",
    "rawdata = pd.read_csv(\"kc_house_data.csv\")"
   ]
  },
  {
   "cell_type": "code",
   "execution_count": 21,
   "id": "709b0672",
   "metadata": {},
   "outputs": [
    {
     "data": {
      "text/plain": [
       "id                 int64\n",
       "date              object\n",
       "price            float64\n",
       "bedrooms           int64\n",
       "bathrooms        float64\n",
       "sqft_living        int64\n",
       "sqft_lot           int64\n",
       "floors           float64\n",
       "waterfront         int64\n",
       "view               int64\n",
       "condition          int64\n",
       "grade              int64\n",
       "sqft_above         int64\n",
       "sqft_basement      int64\n",
       "yr_built           int64\n",
       "yr_renovated       int64\n",
       "zipcode            int64\n",
       "lat              float64\n",
       "long             float64\n",
       "sqft_living15      int64\n",
       "sqft_lot15         int64\n",
       "dtype: object"
      ]
     },
     "execution_count": 21,
     "metadata": {},
     "output_type": "execute_result"
    }
   ],
   "source": [
    "rawdata.dtypes"
   ]
  },
  {
   "cell_type": "code",
   "execution_count": 22,
   "id": "977e9024",
   "metadata": {
    "scrolled": false
   },
   "outputs": [
    {
     "data": {
      "text/plain": [
       "Index(['price', 'bedrooms', 'bathrooms', 'sqft_living', 'sqft_lot', 'floors',\n",
       "       'waterfront', 'view', 'condition', 'grade', 'sqft_above',\n",
       "       'sqft_basement', 'yr_built', 'yr_renovated', 'zipcode', 'sqft_living15',\n",
       "       'sqft_lot15'],\n",
       "      dtype='object')"
      ]
     },
     "execution_count": 22,
     "metadata": {},
     "output_type": "execute_result"
    }
   ],
   "source": [
    "#removing the columns 'id', 'date', 'lat', 'long'\n",
    "data = rawdata.drop(['id', 'date', 'lat', 'long'], axis=1) # axis=1: dropping info from columns\n",
    "data.columns"
   ]
  },
  {
   "cell_type": "code",
   "execution_count": 23,
   "id": "a91812ec",
   "metadata": {
    "scrolled": false
   },
   "outputs": [],
   "source": [
    "#Now it is the time to select specific properties as features and labels:\n",
    "\n",
    "X = data[['bedrooms', 'bathrooms', 'sqft_living', 'sqft_lot', 'floors', 'waterfront', 'view', 'condition', 'grade', 'sqft_above', 'sqft_basement', 'yr_built', 'yr_renovated', 'zipcode', 'sqft_living15']]\n",
    "y = data['price']\n",
    "\n",
    "#dividing all the prices with the max price to get smaller values\n",
    "y = y/y.max()\n",
    "\n",
    "#NumPy representations of the features and labels\n",
    "y = y.to_numpy()\n",
    "X = X.to_numpy()\n",
    "\n"
   ]
  },
  {
   "cell_type": "code",
   "execution_count": 24,
   "id": "2cfffc14",
   "metadata": {},
   "outputs": [
    {
     "data": {
      "text/html": [
       "<div>\n",
       "<style scoped>\n",
       "    .dataframe tbody tr th:only-of-type {\n",
       "        vertical-align: middle;\n",
       "    }\n",
       "\n",
       "    .dataframe tbody tr th {\n",
       "        vertical-align: top;\n",
       "    }\n",
       "\n",
       "    .dataframe thead th {\n",
       "        text-align: right;\n",
       "    }\n",
       "</style>\n",
       "<table border=\"1\" class=\"dataframe\">\n",
       "  <thead>\n",
       "    <tr style=\"text-align: right;\">\n",
       "      <th></th>\n",
       "      <th>price</th>\n",
       "      <th>bedrooms</th>\n",
       "      <th>bathrooms</th>\n",
       "      <th>sqft_living</th>\n",
       "      <th>sqft_lot</th>\n",
       "      <th>floors</th>\n",
       "      <th>waterfront</th>\n",
       "      <th>view</th>\n",
       "      <th>condition</th>\n",
       "      <th>grade</th>\n",
       "      <th>sqft_above</th>\n",
       "      <th>sqft_basement</th>\n",
       "      <th>yr_built</th>\n",
       "      <th>yr_renovated</th>\n",
       "      <th>zipcode</th>\n",
       "      <th>sqft_living15</th>\n",
       "      <th>sqft_lot15</th>\n",
       "    </tr>\n",
       "  </thead>\n",
       "  <tbody>\n",
       "    <tr>\n",
       "      <th>count</th>\n",
       "      <td>2.161300e+04</td>\n",
       "      <td>21613.000000</td>\n",
       "      <td>21613.000000</td>\n",
       "      <td>21613.000000</td>\n",
       "      <td>2.161300e+04</td>\n",
       "      <td>21613.000000</td>\n",
       "      <td>21613.000000</td>\n",
       "      <td>21613.000000</td>\n",
       "      <td>21613.000000</td>\n",
       "      <td>21613.000000</td>\n",
       "      <td>21613.000000</td>\n",
       "      <td>21613.000000</td>\n",
       "      <td>21613.000000</td>\n",
       "      <td>21613.000000</td>\n",
       "      <td>21613.000000</td>\n",
       "      <td>21613.000000</td>\n",
       "      <td>21613.000000</td>\n",
       "    </tr>\n",
       "    <tr>\n",
       "      <th>mean</th>\n",
       "      <td>5.400881e+05</td>\n",
       "      <td>3.370842</td>\n",
       "      <td>2.114757</td>\n",
       "      <td>2079.899736</td>\n",
       "      <td>1.510697e+04</td>\n",
       "      <td>1.494309</td>\n",
       "      <td>0.007542</td>\n",
       "      <td>0.234303</td>\n",
       "      <td>3.409430</td>\n",
       "      <td>7.656873</td>\n",
       "      <td>1788.390691</td>\n",
       "      <td>291.509045</td>\n",
       "      <td>1971.005136</td>\n",
       "      <td>84.402258</td>\n",
       "      <td>98077.939805</td>\n",
       "      <td>1986.552492</td>\n",
       "      <td>12768.455652</td>\n",
       "    </tr>\n",
       "    <tr>\n",
       "      <th>std</th>\n",
       "      <td>3.671272e+05</td>\n",
       "      <td>0.930062</td>\n",
       "      <td>0.770163</td>\n",
       "      <td>918.440897</td>\n",
       "      <td>4.142051e+04</td>\n",
       "      <td>0.539989</td>\n",
       "      <td>0.086517</td>\n",
       "      <td>0.766318</td>\n",
       "      <td>0.650743</td>\n",
       "      <td>1.175459</td>\n",
       "      <td>828.090978</td>\n",
       "      <td>442.575043</td>\n",
       "      <td>29.373411</td>\n",
       "      <td>401.679240</td>\n",
       "      <td>53.505026</td>\n",
       "      <td>685.391304</td>\n",
       "      <td>27304.179631</td>\n",
       "    </tr>\n",
       "    <tr>\n",
       "      <th>min</th>\n",
       "      <td>7.500000e+04</td>\n",
       "      <td>0.000000</td>\n",
       "      <td>0.000000</td>\n",
       "      <td>290.000000</td>\n",
       "      <td>5.200000e+02</td>\n",
       "      <td>1.000000</td>\n",
       "      <td>0.000000</td>\n",
       "      <td>0.000000</td>\n",
       "      <td>1.000000</td>\n",
       "      <td>1.000000</td>\n",
       "      <td>290.000000</td>\n",
       "      <td>0.000000</td>\n",
       "      <td>1900.000000</td>\n",
       "      <td>0.000000</td>\n",
       "      <td>98001.000000</td>\n",
       "      <td>399.000000</td>\n",
       "      <td>651.000000</td>\n",
       "    </tr>\n",
       "    <tr>\n",
       "      <th>25%</th>\n",
       "      <td>3.219500e+05</td>\n",
       "      <td>3.000000</td>\n",
       "      <td>1.750000</td>\n",
       "      <td>1427.000000</td>\n",
       "      <td>5.040000e+03</td>\n",
       "      <td>1.000000</td>\n",
       "      <td>0.000000</td>\n",
       "      <td>0.000000</td>\n",
       "      <td>3.000000</td>\n",
       "      <td>7.000000</td>\n",
       "      <td>1190.000000</td>\n",
       "      <td>0.000000</td>\n",
       "      <td>1951.000000</td>\n",
       "      <td>0.000000</td>\n",
       "      <td>98033.000000</td>\n",
       "      <td>1490.000000</td>\n",
       "      <td>5100.000000</td>\n",
       "    </tr>\n",
       "    <tr>\n",
       "      <th>50%</th>\n",
       "      <td>4.500000e+05</td>\n",
       "      <td>3.000000</td>\n",
       "      <td>2.250000</td>\n",
       "      <td>1910.000000</td>\n",
       "      <td>7.618000e+03</td>\n",
       "      <td>1.500000</td>\n",
       "      <td>0.000000</td>\n",
       "      <td>0.000000</td>\n",
       "      <td>3.000000</td>\n",
       "      <td>7.000000</td>\n",
       "      <td>1560.000000</td>\n",
       "      <td>0.000000</td>\n",
       "      <td>1975.000000</td>\n",
       "      <td>0.000000</td>\n",
       "      <td>98065.000000</td>\n",
       "      <td>1840.000000</td>\n",
       "      <td>7620.000000</td>\n",
       "    </tr>\n",
       "    <tr>\n",
       "      <th>75%</th>\n",
       "      <td>6.450000e+05</td>\n",
       "      <td>4.000000</td>\n",
       "      <td>2.500000</td>\n",
       "      <td>2550.000000</td>\n",
       "      <td>1.068800e+04</td>\n",
       "      <td>2.000000</td>\n",
       "      <td>0.000000</td>\n",
       "      <td>0.000000</td>\n",
       "      <td>4.000000</td>\n",
       "      <td>8.000000</td>\n",
       "      <td>2210.000000</td>\n",
       "      <td>560.000000</td>\n",
       "      <td>1997.000000</td>\n",
       "      <td>0.000000</td>\n",
       "      <td>98118.000000</td>\n",
       "      <td>2360.000000</td>\n",
       "      <td>10083.000000</td>\n",
       "    </tr>\n",
       "    <tr>\n",
       "      <th>max</th>\n",
       "      <td>7.700000e+06</td>\n",
       "      <td>33.000000</td>\n",
       "      <td>8.000000</td>\n",
       "      <td>13540.000000</td>\n",
       "      <td>1.651359e+06</td>\n",
       "      <td>3.500000</td>\n",
       "      <td>1.000000</td>\n",
       "      <td>4.000000</td>\n",
       "      <td>5.000000</td>\n",
       "      <td>13.000000</td>\n",
       "      <td>9410.000000</td>\n",
       "      <td>4820.000000</td>\n",
       "      <td>2015.000000</td>\n",
       "      <td>2015.000000</td>\n",
       "      <td>98199.000000</td>\n",
       "      <td>6210.000000</td>\n",
       "      <td>871200.000000</td>\n",
       "    </tr>\n",
       "  </tbody>\n",
       "</table>\n",
       "</div>"
      ],
      "text/plain": [
       "              price      bedrooms     bathrooms   sqft_living      sqft_lot  \\\n",
       "count  2.161300e+04  21613.000000  21613.000000  21613.000000  2.161300e+04   \n",
       "mean   5.400881e+05      3.370842      2.114757   2079.899736  1.510697e+04   \n",
       "std    3.671272e+05      0.930062      0.770163    918.440897  4.142051e+04   \n",
       "min    7.500000e+04      0.000000      0.000000    290.000000  5.200000e+02   \n",
       "25%    3.219500e+05      3.000000      1.750000   1427.000000  5.040000e+03   \n",
       "50%    4.500000e+05      3.000000      2.250000   1910.000000  7.618000e+03   \n",
       "75%    6.450000e+05      4.000000      2.500000   2550.000000  1.068800e+04   \n",
       "max    7.700000e+06     33.000000      8.000000  13540.000000  1.651359e+06   \n",
       "\n",
       "             floors    waterfront          view     condition         grade  \\\n",
       "count  21613.000000  21613.000000  21613.000000  21613.000000  21613.000000   \n",
       "mean       1.494309      0.007542      0.234303      3.409430      7.656873   \n",
       "std        0.539989      0.086517      0.766318      0.650743      1.175459   \n",
       "min        1.000000      0.000000      0.000000      1.000000      1.000000   \n",
       "25%        1.000000      0.000000      0.000000      3.000000      7.000000   \n",
       "50%        1.500000      0.000000      0.000000      3.000000      7.000000   \n",
       "75%        2.000000      0.000000      0.000000      4.000000      8.000000   \n",
       "max        3.500000      1.000000      4.000000      5.000000     13.000000   \n",
       "\n",
       "         sqft_above  sqft_basement      yr_built  yr_renovated       zipcode  \\\n",
       "count  21613.000000   21613.000000  21613.000000  21613.000000  21613.000000   \n",
       "mean    1788.390691     291.509045   1971.005136     84.402258  98077.939805   \n",
       "std      828.090978     442.575043     29.373411    401.679240     53.505026   \n",
       "min      290.000000       0.000000   1900.000000      0.000000  98001.000000   \n",
       "25%     1190.000000       0.000000   1951.000000      0.000000  98033.000000   \n",
       "50%     1560.000000       0.000000   1975.000000      0.000000  98065.000000   \n",
       "75%     2210.000000     560.000000   1997.000000      0.000000  98118.000000   \n",
       "max     9410.000000    4820.000000   2015.000000   2015.000000  98199.000000   \n",
       "\n",
       "       sqft_living15     sqft_lot15  \n",
       "count   21613.000000   21613.000000  \n",
       "mean     1986.552492   12768.455652  \n",
       "std       685.391304   27304.179631  \n",
       "min       399.000000     651.000000  \n",
       "25%      1490.000000    5100.000000  \n",
       "50%      1840.000000    7620.000000  \n",
       "75%      2360.000000   10083.000000  \n",
       "max      6210.000000  871200.000000  "
      ]
     },
     "execution_count": 24,
     "metadata": {},
     "output_type": "execute_result"
    }
   ],
   "source": [
    "#an overview of the data\n",
    "\n",
    "data.describe()"
   ]
  },
  {
   "cell_type": "code",
   "execution_count": 25,
   "id": "d694f6de",
   "metadata": {
    "scrolled": false
   },
   "outputs": [
    {
     "name": "stdout",
     "output_type": "stream",
     "text": [
      "0        221900.0\n",
      "1        538000.0\n",
      "2        180000.0\n",
      "3        604000.0\n",
      "4        510000.0\n",
      "           ...   \n",
      "21608    360000.0\n",
      "21609    400000.0\n",
      "21610    402101.0\n",
      "21611    400000.0\n",
      "21612    325000.0\n",
      "Name: price, Length: 21613, dtype: float64\n"
     ]
    },
    {
     "data": {
      "image/png": "[encoded data removed]",
      "text/plain": [
       "<Figure size 432x288 with 1 Axes>"
      ]
     },
     "metadata": {
      "needs_background": "light"
     },
     "output_type": "display_data"
    }
   ],
   "source": [
    "#examine the correaltion of different properties with price\n",
    "\n",
    "ax = plt.axes(projection='3d')\n",
    "\n",
    "# Data for a three-dimensional line\n",
    "zline = data['bedrooms']\n",
    "xline = data['sqft_living']\n",
    "yline = data['price']\n",
    "ax.scatter3D(xline, yline, zline, 'gray')\n",
    "\n",
    "print(data['price'])\n",
    "\n"
   ]
  },
  {
   "cell_type": "code",
   "execution_count": 26,
   "id": "a2966b2a",
   "metadata": {
    "scrolled": false
   },
   "outputs": [
    {
     "ename": "TypeError",
     "evalue": "'numpy.ndarray' object is not callable",
     "output_type": "error",
     "traceback": [
      "\u001b[1;31m---------------------------------------------------------------------------\u001b[0m",
      "\u001b[1;31mTypeError\u001b[0m                                 Traceback (most recent call last)",
      "\u001b[1;32m~\\AppData\\Local\\Temp/ipykernel_8240/335871422.py\u001b[0m in \u001b[0;36m<module>\u001b[1;34m\u001b[0m\n\u001b[0;32m     10\u001b[0m \u001b[1;32mfor\u001b[0m \u001b[0my_\u001b[0m \u001b[1;32min\u001b[0m \u001b[0mrange\u001b[0m\u001b[1;33m(\u001b[0m\u001b[0mlabels\u001b[0m\u001b[1;33m.\u001b[0m\u001b[0mshape\u001b[0m\u001b[1;33m[\u001b[0m\u001b[1;36m0\u001b[0m\u001b[1;33m]\u001b[0m\u001b[1;33m)\u001b[0m\u001b[1;33m:\u001b[0m\u001b[1;33m\u001b[0m\u001b[1;33m\u001b[0m\u001b[0m\n\u001b[0;32m     11\u001b[0m     \u001b[1;32mfor\u001b[0m \u001b[0mx_\u001b[0m \u001b[1;32min\u001b[0m \u001b[0mrange\u001b[0m\u001b[1;33m(\u001b[0m\u001b[0mlabels\u001b[0m\u001b[1;33m.\u001b[0m\u001b[0mshape\u001b[0m\u001b[1;33m[\u001b[0m\u001b[1;36m1\u001b[0m\u001b[1;33m]\u001b[0m\u001b[1;33m)\u001b[0m\u001b[1;33m:\u001b[0m\u001b[1;33m\u001b[0m\u001b[1;33m\u001b[0m\u001b[0m\n\u001b[1;32m---> 12\u001b[1;33m         \u001b[0mplt\u001b[0m\u001b[1;33m.\u001b[0m\u001b[0mtext\u001b[0m\u001b[1;33m(\u001b[0m\u001b[0mx_\u001b[0m\u001b[1;33m,\u001b[0m \u001b[0my_\u001b[0m\u001b[1;33m,\u001b[0m \u001b[1;34m\"{:.2f}\"\u001b[0m\u001b[1;33m.\u001b[0m\u001b[0mformat\u001b[0m\u001b[1;33m(\u001b[0m\u001b[0mlabels\u001b[0m\u001b[1;33m(\u001b[0m\u001b[0mx_\u001b[0m\u001b[1;33m,\u001b[0m\u001b[0my_\u001b[0m\u001b[1;33m)\u001b[0m\u001b[1;33m)\u001b[0m\u001b[1;33m,\u001b[0m \u001b[0mha\u001b[0m\u001b[1;33m=\u001b[0m\u001b[1;34m'center'\u001b[0m\u001b[1;33m,\u001b[0m \u001b[0mva\u001b[0m\u001b[1;33m=\u001b[0m\u001b[1;34m'center'\u001b[0m\u001b[1;33m,\u001b[0m \u001b[0mcolor\u001b[0m\u001b[1;33m=\u001b[0m\u001b[1;34m'white'\u001b[0m\u001b[1;33m)\u001b[0m\u001b[1;33m\u001b[0m\u001b[1;33m\u001b[0m\u001b[0m\n\u001b[0m",
      "\u001b[1;31mTypeError\u001b[0m: 'numpy.ndarray' object is not callable"
     ]
    },
    {
     "data": {
      "image/png": "[encoded data removed]",
      "text/plain": [
       "<Figure size 864x864 with 2 Axes>"
      ]
     },
     "metadata": {
      "needs_background": "light"
     },
     "output_type": "display_data"
    }
   ],
   "source": [
    "#Building correalation heatmap to examine the correaltion of different properties with price\n",
    "\n",
    "plt.imshow(data.corr(), cmap='coolwarm', interpolation='none')\n",
    "plt.colorbar()\n",
    "plt.xticks(range(len(data.columns)), data.columns, rotation=90)\n",
    "plt.yticks(range(len(data.columns)), data.columns)\n",
    "plt.gcf().set_size_inches(12,12)\n",
    "\n",
    "labels = data.corr().values\n",
    "for y_ in range(labels.shape[0]):\n",
    "    for x_ in range(labels.shape[1]):\n",
    "        plt.text(x_, y_, \"{:.2f}\".format(labels(x_,y_)), ha='center', va='center', color='white')\n"
   ]
  },
  {
   "cell_type": "code",
   "execution_count": 27,
   "id": "1a71f8f3",
   "metadata": {
    "scrolled": true
   },
   "outputs": [
    {
     "data": {
      "text/plain": [
       "Text(0.5, 1.0, 'bedrooms vs  price')"
      ]
     },
     "execution_count": 27,
     "metadata": {},
     "output_type": "execute_result"
    },
    {
     "data": {
      "image/png": "[encoded data removed]",
      "text/plain": [
       "<Figure size 1080x288 with 3 Axes>"
      ]
     },
     "metadata": {
      "needs_background": "light"
     },
     "output_type": "display_data"
    }
   ],
   "source": [
    "#We take a closer look to correlations between price and square foot living\n",
    "#We also take look to correlation between price and number of bedrooms \n",
    "\n",
    "# Visualize data\n",
    "fig, axes = plt.subplots(1, 3, figsize=(15,4))\n",
    "axes[0].scatter(data['sqft_living'],data['price']);\n",
    "axes[0].set_xlabel(\"sqft_living\")\n",
    "axes[0].set_ylabel(\"price\")\n",
    "axes[0].set_title(\"sqft_living vs price \")\n",
    "\n",
    "axes[1].scatter(data['grade'],data['price']);\n",
    "axes[1].set_xlabel(\"grade\")\n",
    "axes[1].set_ylabel(\"price\")\n",
    "axes[1].set_title(\"grade vs  price\")\n",
    "\n",
    "axes[2].scatter(data['bedrooms'],data['price']);\n",
    "axes[2].set_xlabel(\"bedrooms\")\n",
    "axes[2].set_ylabel(\"price\")\n",
    "axes[2].set_title(\"bedrooms vs  price\")\n",
    "\n"
   ]
  },
  {
   "cell_type": "code",
   "execution_count": 28,
   "id": "d0652f8a",
   "metadata": {},
   "outputs": [],
   "source": [
    "#scaling the X-values\n",
    "scaler = StandardScaler().fit(X)\n",
    "X_scaled = scaler.transform(X)\n"
   ]
  },
  {
   "cell_type": "code",
   "execution_count": 29,
   "id": "844aa3ae",
   "metadata": {},
   "outputs": [
    {
     "name": "stdout",
     "output_type": "stream",
     "text": [
      "[ 287555.06702452  677621.82640197  172499.40418656  506441.44998452\n",
      "  427866.85097324 1477398.99490969  437688.67584965  253880.23887682\n",
      "  455929.20776298  486797.8002317 ]\n",
      "[ 221900.  538000.  180000.  604000.  510000. 1225000.  257500.  291850.\n",
      "  229500.  323000.]\n",
      "The training error: 68351286833.039825\n",
      "Accuracy: 0.4928532179037931\n",
      "\n",
      "w1 =  [280.6235679]\n",
      "\n",
      "w0 =  -43580.743094473146\n"
     ]
    }
   ],
   "source": [
    "#testing how model performs wih only one feature\n",
    "#Linear regression with only price and sqft_living\n",
    "X_ = data[['sqft_living']]\n",
    "y_ = data['price']\n",
    "\n",
    "X_ = X_.to_numpy()\n",
    "y_ = y_.to_numpy()\n",
    "\n",
    "lin_regr = LinearRegression()\n",
    "lin_regr.fit(X_, y_)\n",
    "\n",
    "y_pred_train = lin_regr.predict(X_)\n",
    "tr_error = mean_squared_error(y_, y_pred_train) \n",
    "acc_train = lin_regr.score(X_, y_) \n",
    "\n",
    "print(y_pred_train[:10])\n",
    "print(y_[:10])\n",
    "\n",
    "#y_pred_val = lin_regr.predict(X_val)\n",
    "#val_error = mean_squared_error(y_val, y_pred_val)\n",
    "#acc_val = lin_regr.score(X_val, y_val) \n",
    "\n",
    "print(\"The training error:\", tr_error)\n",
    "print(\"Accuracy:\", acc_train)\n",
    "print(\"\\nw1 = \", lin_regr.coef_)\n",
    "print(\"\\nw0 = \", lin_regr.intercept_)\n",
    "\n",
    "#print(\"The validation error:\", val_error)\n",
    "#print(\"Validation accuracy:\", acc_val)"
   ]
  },
  {
   "cell_type": "code",
   "execution_count": 30,
   "id": "77173ce6",
   "metadata": {},
   "outputs": [],
   "source": [
    "#splitting the datset into training and remaining set\n",
    "\n",
    "X_train, X_rem, y_train, y_rem = train_test_split(X_scaled, y, test_size=0.2, random_state=41)"
   ]
  },
  {
   "cell_type": "code",
   "execution_count": 31,
   "id": "c849351c",
   "metadata": {},
   "outputs": [],
   "source": [
    "#splitting the remaining dataset into validation set and test set\n",
    "\n",
    "X_val, X_test, y_val, y_test = train_test_split(X_rem, y_rem, test_size=0.1, random_state=41)"
   ]
  },
  {
   "cell_type": "code",
   "execution_count": 32,
   "id": "e8275747",
   "metadata": {},
   "outputs": [],
   "source": [
    "#now we have three datasets\n",
    "\n",
    "#X_train and y_train\n",
    "#X_val and y_val\n",
    "#X_test and y_test"
   ]
  },
  {
   "cell_type": "code",
   "execution_count": 33,
   "id": "7935f59d",
   "metadata": {
    "scrolled": true
   },
   "outputs": [
    {
     "name": "stdout",
     "output_type": "stream",
     "text": [
      "The training error: 0.0007486762075210716\n",
      "Accuracy: 0.6515992474941443\n",
      "The validation error: 0.0009771946533612364\n",
      "Validation accuracy: 0.657430305749561\n"
     ]
    }
   ],
   "source": [
    "#first we use linear regression model\n",
    "\n",
    "#now we fit linear regression model and predict label values based on features\n",
    "#we also calculate training error\n",
    "\n",
    "lin_regr = LinearRegression()\n",
    "lin_regr.fit(X_train, y_train)\n",
    "\n",
    "y_pred_train = lin_regr.predict(X_train)\n",
    "tr_error = mean_squared_error(y_train, y_pred_train) \n",
    "acc_train = lin_regr.score(X_train, y_train) \n",
    "\n",
    "y_pred_val = lin_regr.predict(X_val)\n",
    "val_error = mean_squared_error(y_val, y_pred_val)\n",
    "acc_val = lin_regr.score(X_val, y_val) \n",
    "\n",
    "print(\"The training error:\", tr_error)\n",
    "print(\"Accuracy:\", acc_train)\n",
    "#print(\"\\nw1 = \", lin_regr.coef_)\n",
    "#print(\"\\nw0 = \", lin_regr.intercept_)\n",
    "\n",
    "print(\"The validation error:\", val_error)\n",
    "print(\"Validation accuracy:\", acc_val)\n"
   ]
  },
  {
   "cell_type": "code",
   "execution_count": 34,
   "id": "888e8d10",
   "metadata": {
    "scrolled": true
   },
   "outputs": [
    {
     "name": "stdout",
     "output_type": "stream",
     "text": [
      "The training error: 0.000748704087067833\n",
      "training accuracy: 0.6515992474941443\n",
      "The validation error: 0.0009783992372056987\n",
      "Validation accuracy: 0.657430305749561\n",
      "The training error: 0.000541190799430368\n",
      "training accuracy: 0.6515992474941443\n",
      "The validation error: 0.0006423009949871493\n",
      "Validation accuracy: 0.657430305749561\n",
      "The training error: 0.00041307201301284997\n",
      "training accuracy: 0.6515992474941443\n",
      "The validation error: 0.001514012304052485\n",
      "Validation accuracy: 0.657430305749561\n",
      "The training error: 0.00028095810734668356\n",
      "training accuracy: 0.6515992474941443\n",
      "The validation error: 607.8603083610866\n",
      "Validation accuracy: 0.657430305749561\n"
     ]
    }
   ],
   "source": [
    "#next we try polynomial regression\n",
    "#this is done wih help from assigment 4.2\n",
    "\n",
    "#define a list of values for polynomial degreees\n",
    "degrees = [1,2,3,4]\n",
    "    \n",
    "#making lists where we can store the errors\n",
    "tr_errors = []\n",
    "val_errors = []\n",
    "\n",
    "for i,degree in enumerate(degrees): #looping with different polynomial degrees\n",
    "    \n",
    "    #print(\"We are using polynomial degree\", degree)\n",
    "    \n",
    "    lin_regr = LinearRegression(fit_intercept=False) #generating linearregression model\n",
    "    poly = PolynomialFeatures(degree=degree) #generating polynomial features\n",
    "    X_train_poly = poly.fit_transform(X_train) #fit and transform features\n",
    "    lin_regr.fit(X_train_poly, y_train) #applying linear regression to new features\n",
    "    \n",
    "    y_pred_train = lin_regr.predict(X_train_poly) #predict values for training data using linear model\n",
    "    tr_error = mean_squared_error(y_train, y_pred_train)\n",
    "    \n",
    "    X_val_poly = poly.fit_transform(X_val) #fit and transform the raw features for validation data\n",
    "    y_pred_val = lin_regr.predict(X_val_poly)\n",
    "    val_error = mean_squared_error(y_val, y_pred_val)\n",
    "    \n",
    "    #print(\"\\nWegihts: \\n\",lin_regr.coef_)\n",
    "    \n",
    "    tr_errors.append(tr_error)\n",
    "    val_errors.append(val_error)\n",
    "    \n",
    "    print(\"The training error:\", tr_error)\n",
    "    print(\"training accuracy:\", acc_train)\n",
    "    print(\"The validation error:\", val_error)\n",
    "    print(\"Validation accuracy:\", acc_val)\n",
    "    \n",
    "    \n",
    "    \n",
    "\n"
   ]
  },
  {
   "cell_type": "code",
   "execution_count": 35,
   "id": "db341177",
   "metadata": {},
   "outputs": [
    {
     "name": "stdout",
     "output_type": "stream",
     "text": [
      "y max: 7700000.0\n",
      "[1111505.754649    279121.2696167   476200.14812765  187027.67112664\n",
      "  272550.29333438  359446.0714659   327331.50890443  625807.233341\n",
      "  984044.6110823   701826.4012787 ]\n",
      "Real values: [1100000.  372000.  535000.  176000.  265000.  280000.  630000.  550000.\n",
      "  957000.  805000.]\n"
     ]
    }
   ],
   "source": [
    "y_max = data['price'].max()\n",
    "\n",
    "print(\"y max:\", y_max)\n",
    "print(y_pred_train[:10]*y_max)\n",
    "print(\"Real values:\", y_train[:10]*y_max)"
   ]
  },
  {
   "cell_type": "code",
   "execution_count": 36,
   "id": "1bc61984",
   "metadata": {
    "scrolled": true
   },
   "outputs": [
    {
     "data": {
      "text/html": [
       "<div>\n",
       "<style scoped>\n",
       "    .dataframe tbody tr th:only-of-type {\n",
       "        vertical-align: middle;\n",
       "    }\n",
       "\n",
       "    .dataframe tbody tr th {\n",
       "        vertical-align: top;\n",
       "    }\n",
       "\n",
       "    .dataframe thead th {\n",
       "        text-align: right;\n",
       "    }\n",
       "</style>\n",
       "<table border=\"1\" class=\"dataframe\">\n",
       "  <thead>\n",
       "    <tr style=\"text-align: right;\">\n",
       "      <th></th>\n",
       "      <th>poly degree</th>\n",
       "      <th>linear_train_errors</th>\n",
       "      <th>linear_val_errors</th>\n",
       "    </tr>\n",
       "  </thead>\n",
       "  <tbody>\n",
       "    <tr>\n",
       "      <th>0</th>\n",
       "      <td>1</td>\n",
       "      <td>0.000749</td>\n",
       "      <td>0.000978</td>\n",
       "    </tr>\n",
       "    <tr>\n",
       "      <th>1</th>\n",
       "      <td>2</td>\n",
       "      <td>0.000541</td>\n",
       "      <td>0.000642</td>\n",
       "    </tr>\n",
       "    <tr>\n",
       "      <th>2</th>\n",
       "      <td>3</td>\n",
       "      <td>0.000413</td>\n",
       "      <td>0.001514</td>\n",
       "    </tr>\n",
       "    <tr>\n",
       "      <th>3</th>\n",
       "      <td>4</td>\n",
       "      <td>0.000281</td>\n",
       "      <td>607.860308</td>\n",
       "    </tr>\n",
       "  </tbody>\n",
       "</table>\n",
       "</div>"
      ],
      "text/plain": [
       "   poly degree  linear_train_errors  linear_val_errors\n",
       "0            1             0.000749           0.000978\n",
       "1            2             0.000541           0.000642\n",
       "2            3             0.000413           0.001514\n",
       "3            4             0.000281         607.860308"
      ]
     },
     "execution_count": 36,
     "metadata": {},
     "output_type": "execute_result"
    }
   ],
   "source": [
    "# create a table to compare training and validation errors\n",
    "errors = {\"poly degree\":degrees,\n",
    "          \"linear_train_errors\":tr_errors,\n",
    "          \"linear_val_errors\":val_errors,\n",
    "         }\n",
    "pd.DataFrame({ key:pd.Series(value) for key, value in errors.items()})"
   ]
  },
  {
   "cell_type": "code",
   "execution_count": null,
   "id": "8c7339de",
   "metadata": {},
   "outputs": [],
   "source": []
  }
 ],
 "metadata": {
  "kernelspec": {
   "display_name": "Python 3 (ipykernel)",
   "language": "python",
   "name": "python3"
  },
  "language_info": {
   "codemirror_mode": {
    "name": "ipython",
    "version": 3
   },
   "file_extension": ".py",
   "mimetype": "text/x-python",
   "name": "python",
   "nbconvert_exporter": "python",
   "pygments_lexer": "ipython3",
   "version": "3.9.6"
  }
 },
 "nbformat": 4,
 "nbformat_minor": 5
}
